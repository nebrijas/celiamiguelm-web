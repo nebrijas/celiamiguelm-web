{
 "cells": [
  {
   "cell_type": "markdown",
   "id": "2bc09ffc",
   "metadata": {},
   "source": [
    "# Prgramación literaria con Juputer (ad3)\n",
    "## Web Scraping con Python\n",
    "Este programa se encarga de hacer **web scraping** en varias URLs de una misma web. Los resultados son almacenados y clasificados por palabras clave para imprimirlos al final del programa por consola."
   ]
  },
  {
   "cell_type": "markdown",
   "id": "0ced4bbe",
   "metadata": {},
   "source": [
    "### Librerías utilizadas\n",
    "+ requests: [requests es una librería Python que facilita enormemente el trabajo con peticiones HTTP.](https://j2logo.com/python/python-requests-peticiones-http/)\n",
    "+ bs4: [Beautiful Soup es una librería Python que permite extraer información de contenido en formato HTML o XML.](https://j2logo.com/python/web-scraping-con-python-guia-inicio-beautifulsoup/)\n",
    "+ pandas: [Pandas es una librería de Python especializada en el manejo y análisis de estructuras de datos.](https://aprendeconalf.es/docencia/python/manual/pandas/)\n",
    "+ termcolor: [Formato de color ANSII para salida en terminal.](https://pypi.org/project/termcolor/)"
   ]
  },
  {
   "cell_type": "markdown",
   "id": "a202bf2e",
   "metadata": {},
   "source": [
    "### Módulos utilizados\n",
    "+ time: [El módulo time de la biblioteca estándar de Python proporciona un conjunto de funciones para trabajar con fechas y/o horas.](https://python-para-impacientes.blogspot.com/2017/03/el-modulo-time.html)\n",
    "+ csv: [El módulo csv implementa clases para leer y escribir datos tabulares en formato CSV.](https://docs.python.org/es/3/library/csv.html)\n",
    "+ re: [Este módulo proporciona operaciones de coincidencia de expresiones regulares similares a las encontradas en Perl.](https://docs.python.org/es/3/library/re.html)\n",
    "+ os: [Este módulo provee una manera versátil de usar funcionalidades dependientes del sistema operativo.](https://docs.python.org/es/3.10/library/os.html)"
   ]
  },
  {
   "cell_type": "markdown",
   "id": "6d6cfd99",
   "metadata": {},
   "source": [
    "### Descripción del programa\n",
    "El primer paso, como en cualquier lenguaje de programación, es importar las librerías que va a necesitar el script:"
   ]
  },
  {
   "cell_type": "code",
   "execution_count": null,
   "id": "d69b3f1d",
   "metadata": {},
   "outputs": [],
   "source": [
    "import requests\n",
    "import time\n",
    "import csv\n",
    "import re\n",
    "from bs4 import BeautifulSoup\n",
    "import os\n",
    "import pandas as pd\n",
    "from termcolor import colored"
   ]
  },
  {
   "cell_type": "markdown",
   "id": "cf249fc0",
   "metadata": {},
   "source": []
  }
 ],
 "metadata": {
  "kernelspec": {
   "display_name": "Python 3 (ipykernel)",
   "language": "python",
   "name": "python3"
  },
  "language_info": {
   "codemirror_mode": {
    "name": "ipython",
    "version": 3
   },
   "file_extension": ".py",
   "mimetype": "text/x-python",
   "name": "python",
   "nbconvert_exporter": "python",
   "pygments_lexer": "ipython3",
   "version": "3.9.12"
  }
 },
 "nbformat": 4,
 "nbformat_minor": 5
}
